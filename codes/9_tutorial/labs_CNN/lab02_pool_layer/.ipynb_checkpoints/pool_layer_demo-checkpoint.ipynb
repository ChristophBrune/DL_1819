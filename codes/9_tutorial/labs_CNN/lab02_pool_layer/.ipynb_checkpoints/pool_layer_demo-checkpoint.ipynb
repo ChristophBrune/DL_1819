{
 "cells": [
  {
   "cell_type": "markdown",
   "metadata": {},
   "source": [
    "# Lab 10.02 : Pooling layer - demo"
   ]
  },
  {
   "cell_type": "code",
   "execution_count": 1,
   "metadata": {},
   "outputs": [],
   "source": [
    "import torch\n",
    "import torch.nn as nn"
   ]
  },
  {
   "cell_type": "markdown",
   "metadata": {},
   "source": [
    "### Make a pooling module\n",
    "* inputs:  activation maps of size n x n\n",
    "* output:  activation maps of size n/p x n/p\n",
    "* p: pooling size"
   ]
  },
  {
   "cell_type": "code",
   "execution_count": 2,
   "metadata": {},
   "outputs": [],
   "source": [
    "mod = nn.MaxPool2d(2,2)"
   ]
  },
  {
   "cell_type": "markdown",
   "metadata": {},
   "source": [
    "### Make an input 2 x 6 x 6  (two channels, each one has 6 x 6 pixels )"
   ]
  },
  {
   "cell_type": "code",
   "execution_count": 3,
   "metadata": {},
   "outputs": [
    {
     "name": "stdout",
     "output_type": "stream",
     "text": [
      "tensor([[[[0.9028, 0.3795, 0.4920, 0.0865, 0.5322, 0.6673],\n",
      "          [0.5613, 0.0573, 0.3706, 0.9864, 0.6903, 0.7795],\n",
      "          [0.2319, 0.6411, 0.0828, 0.8480, 0.6940, 0.0186],\n",
      "          [0.6653, 0.3904, 0.4770, 0.9317, 0.9752, 0.9458],\n",
      "          [0.3758, 0.4509, 0.9988, 0.2489, 0.4568, 0.7452],\n",
      "          [0.9635, 0.6869, 0.3774, 0.3789, 0.2250, 0.6694]],\n",
      "\n",
      "         [[0.0379, 0.8646, 0.0343, 0.3913, 0.6123, 0.4802],\n",
      "          [0.7935, 0.1106, 0.6451, 0.7542, 0.0417, 0.0103],\n",
      "          [0.6252, 0.4460, 0.3631, 0.4708, 0.0991, 0.9065],\n",
      "          [0.2802, 0.1033, 0.7684, 0.0144, 0.8755, 0.0039],\n",
      "          [0.6465, 0.5337, 0.4929, 0.4796, 0.8321, 0.5537],\n",
      "          [0.8528, 0.3121, 0.0512, 0.8967, 0.6015, 0.2350]]]])\n",
      "torch.Size([1, 2, 6, 6])\n"
     ]
    }
   ],
   "source": [
    "bs=1\n",
    "\n",
    "x=torch.rand(bs,2,6,6)\n",
    "\n",
    "\n",
    "print(x)\n",
    "print(x.size())"
   ]
  },
  {
   "cell_type": "markdown",
   "metadata": {},
   "source": [
    "### Feed it to the pooling layer: the output size should be divided by 2 "
   ]
  },
  {
   "cell_type": "code",
   "execution_count": 4,
   "metadata": {},
   "outputs": [
    {
     "name": "stdout",
     "output_type": "stream",
     "text": [
      "tensor([[[[0.9028, 0.9864, 0.7795],\n",
      "          [0.6653, 0.9317, 0.9752],\n",
      "          [0.9635, 0.9988, 0.7452]],\n",
      "\n",
      "         [[0.8646, 0.7542, 0.6123],\n",
      "          [0.6252, 0.7684, 0.9065],\n",
      "          [0.8528, 0.8967, 0.8321]]]])\n",
      "torch.Size([1, 2, 3, 3])\n"
     ]
    }
   ],
   "source": [
    "y=mod(x)\n",
    "\n",
    "print(y)\n",
    "print(y.size())"
   ]
  },
  {
   "cell_type": "code",
   "execution_count": null,
   "metadata": {},
   "outputs": [],
   "source": []
  },
  {
   "cell_type": "code",
   "execution_count": null,
   "metadata": {},
   "outputs": [],
   "source": []
  },
  {
   "cell_type": "code",
   "execution_count": null,
   "metadata": {},
   "outputs": [],
   "source": []
  }
 ],
 "metadata": {
  "kernelspec": {
   "display_name": "Python 3",
   "language": "python",
   "name": "python3"
  },
  "language_info": {
   "codemirror_mode": {
    "name": "ipython",
    "version": 3
   },
   "file_extension": ".py",
   "mimetype": "text/x-python",
   "name": "python",
   "nbconvert_exporter": "python",
   "pygments_lexer": "ipython3",
   "version": "3.6.7"
  }
 },
 "nbformat": 4,
 "nbformat_minor": 2
}
